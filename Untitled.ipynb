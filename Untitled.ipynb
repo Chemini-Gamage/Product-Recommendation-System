{
 "cells": [
  {
   "cell_type": "code",
   "execution_count": 1,
   "id": "995d6454-ee2f-4b68-b40e-dc53565c4db3",
   "metadata": {},
   "outputs": [
    {
     "name": "stdout",
     "output_type": "stream",
     "text": [
      "Requirement already satisfied: pandas in c:\\users\\hp\\anaconda3\\lib\\site-packages (2.2.2)\n",
      "Requirement already satisfied: scikit-learn in c:\\users\\hp\\anaconda3\\lib\\site-packages (1.4.2)\n",
      "Requirement already satisfied: surprise in c:\\users\\hp\\anaconda3\\lib\\site-packages (0.1)\n",
      "Requirement already satisfied: numpy>=1.26.0 in c:\\users\\hp\\anaconda3\\lib\\site-packages (from pandas) (1.26.4)\n",
      "Requirement already satisfied: python-dateutil>=2.8.2 in c:\\users\\hp\\anaconda3\\lib\\site-packages (from pandas) (2.9.0.post0)\n",
      "Requirement already satisfied: pytz>=2020.1 in c:\\users\\hp\\anaconda3\\lib\\site-packages (from pandas) (2024.1)\n",
      "Requirement already satisfied: tzdata>=2022.7 in c:\\users\\hp\\anaconda3\\lib\\site-packages (from pandas) (2023.3)\n",
      "Requirement already satisfied: scipy>=1.6.0 in c:\\users\\hp\\anaconda3\\lib\\site-packages (from scikit-learn) (1.13.1)\n",
      "Requirement already satisfied: joblib>=1.2.0 in c:\\users\\hp\\anaconda3\\lib\\site-packages (from scikit-learn) (1.4.2)\n",
      "Requirement already satisfied: threadpoolctl>=2.0.0 in c:\\users\\hp\\anaconda3\\lib\\site-packages (from scikit-learn) (2.2.0)\n",
      "Requirement already satisfied: scikit-surprise in c:\\users\\hp\\anaconda3\\lib\\site-packages (from surprise) (1.1.4)\n",
      "Requirement already satisfied: six>=1.5 in c:\\users\\hp\\anaconda3\\lib\\site-packages (from python-dateutil>=2.8.2->pandas) (1.16.0)\n",
      "Note: you may need to restart the kernel to use updated packages.\n"
     ]
    }
   ],
   "source": [
    "pip install pandas scikit-learn surprise"
   ]
  },
  {
   "cell_type": "code",
   "execution_count": 3,
   "id": "72e33cc8-0c23-49ea-98aa-f2dff09c5ea7",
   "metadata": {},
   "outputs": [],
   "source": [
    "import pandas as pd\n",
    "from sklearn.feature_extraction.text import TfidfVectorizer\n",
    "from sklearn.metrics.pairwise import linear_kernel\n",
    "from surprise import Dataset, Reader, SVD\n",
    "from surprise.model_selection import train_test_split"
   ]
  },
  {
   "cell_type": "code",
   "execution_count": 19,
   "id": "13019ca6-819a-4edc-a72c-a17b3f99ea8b",
   "metadata": {},
   "outputs": [],
   "source": [
    "products = pd.read_csv(\"walmart__product_review_data.tsv\",sep =\"\\t\")  # Change this to your actual file path"
   ]
  },
  {
   "cell_type": "code",
   "execution_count": 21,
   "id": "c474e362-b3e3-4a84-9385-84a8a75ed107",
   "metadata": {},
   "outputs": [],
   "source": [
    "updated_products = products[['Uniq Id', 'Crawl Timestamp','Product Id', 'Product Name', 'Product Rating', 'Product Reviews Count', 'Product Category', 'Product Brand', 'Product Image Url',  'Product Description', 'Product Price']]"
   ]
  },
  {
   "cell_type": "code",
   "execution_count": 23,
   "id": "18aa545b-d092-4329-aca2-59202a903c6c",
   "metadata": {},
   "outputs": [
    {
     "data": {
      "text/html": [
       "<div>\n",
       "<style scoped>\n",
       "    .dataframe tbody tr th:only-of-type {\n",
       "        vertical-align: middle;\n",
       "    }\n",
       "\n",
       "    .dataframe tbody tr th {\n",
       "        vertical-align: top;\n",
       "    }\n",
       "\n",
       "    .dataframe thead th {\n",
       "        text-align: right;\n",
       "    }\n",
       "</style>\n",
       "<table border=\"1\" class=\"dataframe\">\n",
       "  <thead>\n",
       "    <tr style=\"text-align: right;\">\n",
       "      <th></th>\n",
       "      <th>Uniq Id</th>\n",
       "      <th>Crawl Timestamp</th>\n",
       "      <th>Product Id</th>\n",
       "      <th>Product Name</th>\n",
       "      <th>Product Rating</th>\n",
       "      <th>Product Reviews Count</th>\n",
       "      <th>Product Category</th>\n",
       "      <th>Product Brand</th>\n",
       "      <th>Product Image Url</th>\n",
       "      <th>Product Description</th>\n",
       "      <th>Product Price</th>\n",
       "    </tr>\n",
       "  </thead>\n",
       "  <tbody>\n",
       "    <tr>\n",
       "      <th>0</th>\n",
       "      <td>1705736792d82aa2f2d3caf1c07c53f4</td>\n",
       "      <td>2020-09-24 03:21:12 +0000</td>\n",
       "      <td>2e17bf4acecdece67fc00f07ad62c910</td>\n",
       "      <td>OPI Infinite Shine, Nail Lacquer Nail Polish, ...</td>\n",
       "      <td>NaN</td>\n",
       "      <td>NaN</td>\n",
       "      <td>Premium Beauty &gt; Premium Makeup &gt; Premium Nail...</td>\n",
       "      <td>OPI</td>\n",
       "      <td>https://i5.walmartimages.com/asr/0e1f4c51-c1a4...</td>\n",
       "      <td>NaN</td>\n",
       "      <td>8.95</td>\n",
       "    </tr>\n",
       "    <tr>\n",
       "      <th>1</th>\n",
       "      <td>95a9fe6f4810fcfc7ff244fd06784f11</td>\n",
       "      <td>2020-10-30 14:04:08 +0000</td>\n",
       "      <td>076e5854a62dd283c253d6bae415af1f</td>\n",
       "      <td>Nice n Easy Permanent Color, 111 Natural Mediu...</td>\n",
       "      <td>NaN</td>\n",
       "      <td>NaN</td>\n",
       "      <td>Beauty &gt; Hair Care &gt; Hair Color &gt; Auburn Hair ...</td>\n",
       "      <td>Nice'n Easy</td>\n",
       "      <td>https://i5.walmartimages.com/asr/9c8e42e4-13a5...</td>\n",
       "      <td>Pack of 3 Pack of 3 for the UPC: 381519000201 ...</td>\n",
       "      <td>29.86</td>\n",
       "    </tr>\n",
       "    <tr>\n",
       "      <th>2</th>\n",
       "      <td>8d4d0330178d3ed181b15a4102b287f2</td>\n",
       "      <td>2020-08-06 05:51:47 +0000</td>\n",
       "      <td>8a4fe5d9c7a6ed26cc44d785a454b124</td>\n",
       "      <td>Clairol Nice N Easy Permanent Color 7/106A Nat...</td>\n",
       "      <td>4.5</td>\n",
       "      <td>29221.0</td>\n",
       "      <td>Beauty &gt; Hair Care &gt; Hair Color &gt; Permanent Ha...</td>\n",
       "      <td>Clairol</td>\n",
       "      <td>https://i5.walmartimages.com/asr/e3a601c2-6a2b...</td>\n",
       "      <td>This Clairol Nice N Easy Permanent Color gives...</td>\n",
       "      <td>7.99</td>\n",
       "    </tr>\n",
       "    <tr>\n",
       "      <th>3</th>\n",
       "      <td>fddc4df45b35efd886794b261f730c51</td>\n",
       "      <td>2020-07-15 11:22:04 +0000</td>\n",
       "      <td>03b5fb878a33eadff8b033419eab9669</td>\n",
       "      <td>Kokie Professional Matte Lipstick, Hot Berry, ...</td>\n",
       "      <td>NaN</td>\n",
       "      <td>NaN</td>\n",
       "      <td>Beauty &gt; Makeup &gt; Lip</td>\n",
       "      <td>Kokie Cosmetics</td>\n",
       "      <td>https://i5.walmartimages.com/asr/25b4b467-bc61...</td>\n",
       "      <td>Calling all matte lip lovers! Indulge in our r...</td>\n",
       "      <td>5.16</td>\n",
       "    </tr>\n",
       "    <tr>\n",
       "      <th>4</th>\n",
       "      <td>0990cf89a59ca6a0460349a3e4f51d42</td>\n",
       "      <td>2020-11-26T12:27:20+00:00</td>\n",
       "      <td>ce3d761e57d6ccad80619297b5b1bcbc</td>\n",
       "      <td>Gillette TRAC II Plus Razor Blade Refills, Fit...</td>\n",
       "      <td>NaN</td>\n",
       "      <td>131.0</td>\n",
       "      <td>Seasonal &gt; Stock Up Essentials &gt; Personal Care...</td>\n",
       "      <td>Gillette</td>\n",
       "      <td>https://i5.walmartimages.com/asr/1a2ebb06-cd01...</td>\n",
       "      <td>In 1971, Gillette introduced the Trac II razor...</td>\n",
       "      <td>19.97</td>\n",
       "    </tr>\n",
       "  </tbody>\n",
       "</table>\n",
       "</div>"
      ],
      "text/plain": [
       "                            Uniq Id            Crawl Timestamp  \\\n",
       "0  1705736792d82aa2f2d3caf1c07c53f4  2020-09-24 03:21:12 +0000   \n",
       "1  95a9fe6f4810fcfc7ff244fd06784f11  2020-10-30 14:04:08 +0000   \n",
       "2  8d4d0330178d3ed181b15a4102b287f2  2020-08-06 05:51:47 +0000   \n",
       "3  fddc4df45b35efd886794b261f730c51  2020-07-15 11:22:04 +0000   \n",
       "4  0990cf89a59ca6a0460349a3e4f51d42  2020-11-26T12:27:20+00:00   \n",
       "\n",
       "                         Product Id  \\\n",
       "0  2e17bf4acecdece67fc00f07ad62c910   \n",
       "1  076e5854a62dd283c253d6bae415af1f   \n",
       "2  8a4fe5d9c7a6ed26cc44d785a454b124   \n",
       "3  03b5fb878a33eadff8b033419eab9669   \n",
       "4  ce3d761e57d6ccad80619297b5b1bcbc   \n",
       "\n",
       "                                        Product Name  Product Rating  \\\n",
       "0  OPI Infinite Shine, Nail Lacquer Nail Polish, ...             NaN   \n",
       "1  Nice n Easy Permanent Color, 111 Natural Mediu...             NaN   \n",
       "2  Clairol Nice N Easy Permanent Color 7/106A Nat...             4.5   \n",
       "3  Kokie Professional Matte Lipstick, Hot Berry, ...             NaN   \n",
       "4  Gillette TRAC II Plus Razor Blade Refills, Fit...             NaN   \n",
       "\n",
       "   Product Reviews Count                                   Product Category  \\\n",
       "0                    NaN  Premium Beauty > Premium Makeup > Premium Nail...   \n",
       "1                    NaN  Beauty > Hair Care > Hair Color > Auburn Hair ...   \n",
       "2                29221.0  Beauty > Hair Care > Hair Color > Permanent Ha...   \n",
       "3                    NaN                              Beauty > Makeup > Lip   \n",
       "4                  131.0  Seasonal > Stock Up Essentials > Personal Care...   \n",
       "\n",
       "     Product Brand                                  Product Image Url  \\\n",
       "0              OPI  https://i5.walmartimages.com/asr/0e1f4c51-c1a4...   \n",
       "1      Nice'n Easy  https://i5.walmartimages.com/asr/9c8e42e4-13a5...   \n",
       "2          Clairol  https://i5.walmartimages.com/asr/e3a601c2-6a2b...   \n",
       "3  Kokie Cosmetics  https://i5.walmartimages.com/asr/25b4b467-bc61...   \n",
       "4         Gillette  https://i5.walmartimages.com/asr/1a2ebb06-cd01...   \n",
       "\n",
       "                                 Product Description  Product Price  \n",
       "0                                                NaN           8.95  \n",
       "1  Pack of 3 Pack of 3 for the UPC: 381519000201 ...          29.86  \n",
       "2  This Clairol Nice N Easy Permanent Color gives...           7.99  \n",
       "3  Calling all matte lip lovers! Indulge in our r...           5.16  \n",
       "4  In 1971, Gillette introduced the Trac II razor...          19.97  "
      ]
     },
     "execution_count": 23,
     "metadata": {},
     "output_type": "execute_result"
    }
   ],
   "source": [
    "updated_products.head()"
   ]
  },
  {
   "cell_type": "code",
   "execution_count": null,
   "id": "60e51f31-eecb-425c-b3ba-ba353f060952",
   "metadata": {},
   "outputs": [],
   "source": []
  },
  {
   "cell_type": "code",
   "execution_count": 25,
   "id": "b3477835-9540-4bfe-83f0-078af9af5d12",
   "metadata": {},
   "outputs": [
    {
     "data": {
      "text/plain": [
       "Uniq Id                     0\n",
       "Crawl Timestamp             0\n",
       "Product Id                  0\n",
       "Product Name                0\n",
       "Product Rating           2806\n",
       "Product Reviews Count    1654\n",
       "Product Category           10\n",
       "Product Brand              13\n",
       "Product Image Url           0\n",
       "Product Description      1127\n",
       "Product Price              42\n",
       "dtype: int64"
      ]
     },
     "execution_count": 25,
     "metadata": {},
     "output_type": "execute_result"
    }
   ],
   "source": [
    "#null values check\n",
    "updated_products.isnull().sum()"
   ]
  },
  {
   "cell_type": "code",
   "execution_count": 27,
   "id": "38c209a8-9964-4a06-94ee-704a2baad60d",
   "metadata": {},
   "outputs": [
    {
     "name": "stderr",
     "output_type": "stream",
     "text": [
      "C:\\Users\\HP\\AppData\\Local\\Temp\\ipykernel_20964\\749105193.py:3: FutureWarning: A value is trying to be set on a copy of a DataFrame or Series through chained assignment using an inplace method.\n",
      "The behavior will change in pandas 3.0. This inplace method will never work because the intermediate object on which we are setting values always behaves as a copy.\n",
      "\n",
      "For example, when doing 'df[col].method(value, inplace=True)', try using 'df.method({col: value}, inplace=True)' or df[col] = df[col].method(value) instead, to perform the operation inplace on the original object.\n",
      "\n",
      "\n",
      "  updated_products['Product Category'].fillna('', inplace=True)\n",
      "C:\\Users\\HP\\AppData\\Local\\Temp\\ipykernel_20964\\749105193.py:3: SettingWithCopyWarning: \n",
      "A value is trying to be set on a copy of a slice from a DataFrame\n",
      "\n",
      "See the caveats in the documentation: https://pandas.pydata.org/pandas-docs/stable/user_guide/indexing.html#returning-a-view-versus-a-copy\n",
      "  updated_products['Product Category'].fillna('', inplace=True)\n",
      "C:\\Users\\HP\\AppData\\Local\\Temp\\ipykernel_20964\\749105193.py:4: FutureWarning: A value is trying to be set on a copy of a DataFrame or Series through chained assignment using an inplace method.\n",
      "The behavior will change in pandas 3.0. This inplace method will never work because the intermediate object on which we are setting values always behaves as a copy.\n",
      "\n",
      "For example, when doing 'df[col].method(value, inplace=True)', try using 'df.method({col: value}, inplace=True)' or df[col] = df[col].method(value) instead, to perform the operation inplace on the original object.\n",
      "\n",
      "\n",
      "  updated_products['Product Brand'].fillna('', inplace=True)\n",
      "C:\\Users\\HP\\AppData\\Local\\Temp\\ipykernel_20964\\749105193.py:4: SettingWithCopyWarning: \n",
      "A value is trying to be set on a copy of a slice from a DataFrame\n",
      "\n",
      "See the caveats in the documentation: https://pandas.pydata.org/pandas-docs/stable/user_guide/indexing.html#returning-a-view-versus-a-copy\n",
      "  updated_products['Product Brand'].fillna('', inplace=True)\n",
      "C:\\Users\\HP\\AppData\\Local\\Temp\\ipykernel_20964\\749105193.py:7: FutureWarning: A value is trying to be set on a copy of a DataFrame or Series through chained assignment using an inplace method.\n",
      "The behavior will change in pandas 3.0. This inplace method will never work because the intermediate object on which we are setting values always behaves as a copy.\n",
      "\n",
      "For example, when doing 'df[col].method(value, inplace=True)', try using 'df.method({col: value}, inplace=True)' or df[col] = df[col].method(value) instead, to perform the operation inplace on the original object.\n",
      "\n",
      "\n",
      "  updated_products['Product Description'].fillna('', inplace=True)\n",
      "C:\\Users\\HP\\AppData\\Local\\Temp\\ipykernel_20964\\749105193.py:7: SettingWithCopyWarning: \n",
      "A value is trying to be set on a copy of a slice from a DataFrame\n",
      "\n",
      "See the caveats in the documentation: https://pandas.pydata.org/pandas-docs/stable/user_guide/indexing.html#returning-a-view-versus-a-copy\n",
      "  updated_products['Product Description'].fillna('', inplace=True)\n",
      "C:\\Users\\HP\\AppData\\Local\\Temp\\ipykernel_20964\\749105193.py:10: FutureWarning: A value is trying to be set on a copy of a DataFrame or Series through chained assignment using an inplace method.\n",
      "The behavior will change in pandas 3.0. This inplace method will never work because the intermediate object on which we are setting values always behaves as a copy.\n",
      "\n",
      "For example, when doing 'df[col].method(value, inplace=True)', try using 'df.method({col: value}, inplace=True)' or df[col] = df[col].method(value) instead, to perform the operation inplace on the original object.\n",
      "\n",
      "\n",
      "  updated_products['Product Rating'].fillna(updated_products['Product Rating'].mean(), inplace=True)\n",
      "C:\\Users\\HP\\AppData\\Local\\Temp\\ipykernel_20964\\749105193.py:10: SettingWithCopyWarning: \n",
      "A value is trying to be set on a copy of a slice from a DataFrame\n",
      "\n",
      "See the caveats in the documentation: https://pandas.pydata.org/pandas-docs/stable/user_guide/indexing.html#returning-a-view-versus-a-copy\n",
      "  updated_products['Product Rating'].fillna(updated_products['Product Rating'].mean(), inplace=True)\n",
      "C:\\Users\\HP\\AppData\\Local\\Temp\\ipykernel_20964\\749105193.py:11: FutureWarning: A value is trying to be set on a copy of a DataFrame or Series through chained assignment using an inplace method.\n",
      "The behavior will change in pandas 3.0. This inplace method will never work because the intermediate object on which we are setting values always behaves as a copy.\n",
      "\n",
      "For example, when doing 'df[col].method(value, inplace=True)', try using 'df.method({col: value}, inplace=True)' or df[col] = df[col].method(value) instead, to perform the operation inplace on the original object.\n",
      "\n",
      "\n",
      "  updated_products['Product Reviews Count'].fillna(updated_products['Product Reviews Count'].median(), inplace=True)\n",
      "C:\\Users\\HP\\AppData\\Local\\Temp\\ipykernel_20964\\749105193.py:11: SettingWithCopyWarning: \n",
      "A value is trying to be set on a copy of a slice from a DataFrame\n",
      "\n",
      "See the caveats in the documentation: https://pandas.pydata.org/pandas-docs/stable/user_guide/indexing.html#returning-a-view-versus-a-copy\n",
      "  updated_products['Product Reviews Count'].fillna(updated_products['Product Reviews Count'].median(), inplace=True)\n",
      "C:\\Users\\HP\\AppData\\Local\\Temp\\ipykernel_20964\\749105193.py:12: FutureWarning: A value is trying to be set on a copy of a DataFrame or Series through chained assignment using an inplace method.\n",
      "The behavior will change in pandas 3.0. This inplace method will never work because the intermediate object on which we are setting values always behaves as a copy.\n",
      "\n",
      "For example, when doing 'df[col].method(value, inplace=True)', try using 'df.method({col: value}, inplace=True)' or df[col] = df[col].method(value) instead, to perform the operation inplace on the original object.\n",
      "\n",
      "\n",
      "  updated_products['Product Price'].fillna(updated_products['Product Price'].mean(), inplace=True)\n",
      "C:\\Users\\HP\\AppData\\Local\\Temp\\ipykernel_20964\\749105193.py:12: SettingWithCopyWarning: \n",
      "A value is trying to be set on a copy of a slice from a DataFrame\n",
      "\n",
      "See the caveats in the documentation: https://pandas.pydata.org/pandas-docs/stable/user_guide/indexing.html#returning-a-view-versus-a-copy\n",
      "  updated_products['Product Price'].fillna(updated_products['Product Price'].mean(), inplace=True)\n"
     ]
    },
    {
     "data": {
      "text/plain": [
       "Uniq Id                  0\n",
       "Crawl Timestamp          0\n",
       "Product Id               0\n",
       "Product Name             0\n",
       "Product Rating           0\n",
       "Product Reviews Count    0\n",
       "Product Category         0\n",
       "Product Brand            0\n",
       "Product Image Url        0\n",
       "Product Description      0\n",
       "Product Price            0\n",
       "dtype: int64"
      ]
     },
     "execution_count": 27,
     "metadata": {},
     "output_type": "execute_result"
    }
   ],
   "source": [
    "#to fill the missing values\n",
    "\n",
    "updated_products['Product Category'].fillna('', inplace=True)\n",
    "updated_products['Product Brand'].fillna('', inplace=True)\n",
    "\n",
    "#filled witin an emply string\n",
    "updated_products['Product Description'].fillna('', inplace=True)\n",
    "\n",
    "# Assuming df is your DataFrame\n",
    "updated_products['Product Rating'].fillna(updated_products['Product Rating'].mean(), inplace=True)\n",
    "updated_products['Product Reviews Count'].fillna(updated_products['Product Reviews Count'].median(), inplace=True)\n",
    "updated_products['Product Price'].fillna(updated_products['Product Price'].mean(), inplace=True)\n",
    "\n",
    "\n",
    "#null values check\n",
    "updated_products.isnull().sum()"
   ]
  },
  {
   "cell_type": "code",
   "execution_count": 29,
   "id": "5c7f7e3b-58f2-49c5-b44f-08657d5d8b7e",
   "metadata": {},
   "outputs": [
    {
     "name": "stderr",
     "output_type": "stream",
     "text": [
      "C:\\Users\\HP\\AppData\\Local\\Temp\\ipykernel_20964\\3486415391.py:3: SettingWithCopyWarning: \n",
      "A value is trying to be set on a copy of a slice from a DataFrame.\n",
      "Try using .loc[row_indexer,col_indexer] = value instead\n",
      "\n",
      "See the caveats in the documentation: https://pandas.pydata.org/pandas-docs/stable/user_guide/indexing.html#returning-a-view-versus-a-copy\n",
      "  updated_products['Product Tags'] = product_tags\n"
     ]
    },
    {
     "data": {
      "text/html": [
       "<div>\n",
       "<style scoped>\n",
       "    .dataframe tbody tr th:only-of-type {\n",
       "        vertical-align: middle;\n",
       "    }\n",
       "\n",
       "    .dataframe tbody tr th {\n",
       "        vertical-align: top;\n",
       "    }\n",
       "\n",
       "    .dataframe thead th {\n",
       "        text-align: right;\n",
       "    }\n",
       "</style>\n",
       "<table border=\"1\" class=\"dataframe\">\n",
       "  <thead>\n",
       "    <tr style=\"text-align: right;\">\n",
       "      <th></th>\n",
       "      <th>Uniq Id</th>\n",
       "      <th>Crawl Timestamp</th>\n",
       "      <th>Product Id</th>\n",
       "      <th>Product Name</th>\n",
       "      <th>Product Rating</th>\n",
       "      <th>Product Reviews Count</th>\n",
       "      <th>Product Category</th>\n",
       "      <th>Product Brand</th>\n",
       "      <th>Product Image Url</th>\n",
       "      <th>Product Description</th>\n",
       "      <th>Product Price</th>\n",
       "      <th>Product Tags</th>\n",
       "    </tr>\n",
       "  </thead>\n",
       "  <tbody>\n",
       "    <tr>\n",
       "      <th>0</th>\n",
       "      <td>1705736792d82aa2f2d3caf1c07c53f4</td>\n",
       "      <td>2020-09-24 03:21:12 +0000</td>\n",
       "      <td>2e17bf4acecdece67fc00f07ad62c910</td>\n",
       "      <td>OPI Infinite Shine, Nail Lacquer Nail Polish, ...</td>\n",
       "      <td>4.294622</td>\n",
       "      <td>20.0</td>\n",
       "      <td>Premium Beauty &gt; Premium Makeup &gt; Premium Nail...</td>\n",
       "      <td>OPI</td>\n",
       "      <td>https://i5.walmartimages.com/asr/0e1f4c51-c1a4...</td>\n",
       "      <td></td>\n",
       "      <td>8.95</td>\n",
       "      <td>Premium Beauty &gt; Premium Makeup &gt; Premium Nail...</td>\n",
       "    </tr>\n",
       "  </tbody>\n",
       "</table>\n",
       "</div>"
      ],
      "text/plain": [
       "                            Uniq Id            Crawl Timestamp  \\\n",
       "0  1705736792d82aa2f2d3caf1c07c53f4  2020-09-24 03:21:12 +0000   \n",
       "\n",
       "                         Product Id  \\\n",
       "0  2e17bf4acecdece67fc00f07ad62c910   \n",
       "\n",
       "                                        Product Name  Product Rating  \\\n",
       "0  OPI Infinite Shine, Nail Lacquer Nail Polish, ...        4.294622   \n",
       "\n",
       "   Product Reviews Count                                   Product Category  \\\n",
       "0                   20.0  Premium Beauty > Premium Makeup > Premium Nail...   \n",
       "\n",
       "  Product Brand                                  Product Image Url  \\\n",
       "0           OPI  https://i5.walmartimages.com/asr/0e1f4c51-c1a4...   \n",
       "\n",
       "  Product Description  Product Price  \\\n",
       "0                               8.95   \n",
       "\n",
       "                                        Product Tags  \n",
       "0  Premium Beauty > Premium Makeup > Premium Nail...  "
      ]
     },
     "execution_count": 29,
     "metadata": {},
     "output_type": "execute_result"
    }
   ],
   "source": [
    "product_tags = (updated_products['Product Category'] + updated_products['Product Brand'] + updated_products['Product Description'] )\n",
    "product_tags\n",
    "updated_products['Product Tags'] = product_tags\n",
    "updated_products.head(1)"
   ]
  },
  {
   "cell_type": "code",
   "execution_count": 31,
   "id": "f7151d78-3fc1-4b6b-883a-e7208881f223",
   "metadata": {},
   "outputs": [
    {
     "name": "stderr",
     "output_type": "stream",
     "text": [
      "C:\\Users\\HP\\AppData\\Local\\Temp\\ipykernel_20964\\1177720528.py:18: SettingWithCopyWarning: \n",
      "A value is trying to be set on a copy of a slice from a DataFrame\n",
      "\n",
      "See the caveats in the documentation: https://pandas.pydata.org/pandas-docs/stable/user_guide/indexing.html#returning-a-view-versus-a-copy\n",
      "  updated_products.rename(columns =colummn_name_mapping,inplace=True)\n"
     ]
    }
   ],
   "source": [
    "#TO MAKE THE COLUMNS NAMES SHORTER\n",
    "colummn_name_mapping={\n",
    "    'Uniq Id':'ID',\n",
    "    'Crawl Timestamp' : 'Timestamp', \n",
    "    'Product Id':'ProdID',\n",
    "    'Product Rating':'Rating',\n",
    "'Product Reviews Count':'ReviewCount',\n",
    "       'Product Category':'Category',\n",
    "    'Product Brand':'Brand',\n",
    "    'Product Name':'Name',\n",
    "       'Product Image Url':'ImageURL',\n",
    "    'Product Description':'Description', \n",
    "    'Product Price' : 'Price',\n",
    "    'Product Tags':'Tags',\n",
    "   \n",
    "}\n",
    "#rename the cols\n",
    "updated_products.rename(columns =colummn_name_mapping,inplace=True)"
   ]
  },
  {
   "cell_type": "code",
   "execution_count": 33,
   "id": "7502dcc7-f346-4aee-b29c-b6d23091ff99",
   "metadata": {},
   "outputs": [
    {
     "name": "stdout",
     "output_type": "stream",
     "text": [
      "No duplicates found in the ID column.\n"
     ]
    }
   ],
   "source": [
    "num_unique_ids = updated_products['ID'].nunique()\n",
    "total_ids = updated_products['ID'].shape[0]\n",
    "\n",
    "if num_unique_ids == total_ids:\n",
    "    print(\"No duplicates found in the ID column.\")\n",
    "else:\n",
    "    print(\"Duplicates exist in the ID column.\")\n"
   ]
  },
  {
   "cell_type": "code",
   "execution_count": 35,
   "id": "734839c7-69b6-40f2-a01c-6effacd02cf2",
   "metadata": {},
   "outputs": [
    {
     "name": "stderr",
     "output_type": "stream",
     "text": [
      "[nltk_data] Downloading package stopwords to\n",
      "[nltk_data]     C:\\Users\\HP\\AppData\\Roaming\\nltk_data...\n",
      "[nltk_data]   Package stopwords is already up-to-date!\n",
      "C:\\Users\\HP\\AppData\\Local\\Temp\\ipykernel_20964\\1389692670.py:27: SettingWithCopyWarning: \n",
      "A value is trying to be set on a copy of a slice from a DataFrame.\n",
      "Try using .loc[row_indexer,col_indexer] = value instead\n",
      "\n",
      "See the caveats in the documentation: https://pandas.pydata.org/pandas-docs/stable/user_guide/indexing.html#returning-a-view-versus-a-copy\n",
      "  updated_products[column] = updated_products[column].apply(clean_and_extract_tags)\n"
     ]
    }
   ],
   "source": [
    "import re\n",
    "import nltk\n",
    "from nltk.corpus import stopwords\n",
    "\n",
    "# Download NLTK stopwords (only needs to be run once)\n",
    "nltk.download('stopwords')\n",
    "\n",
    "# Get English stop words from NLTK\n",
    "stop_words = set(stopwords.words('english'))\n",
    "\n",
    "# Function to clean and extract tags\n",
    "def clean_and_extract_tags(text):\n",
    "    # Convert text to lowercase\n",
    "    text = text.lower()\n",
    "    \n",
    "    # Use regular expressions to find words only (letters a-z)\n",
    "    words = re.findall(r'\\b[a-z]+\\b', text)\n",
    "    \n",
    "    # Remove stop words\n",
    "    tags = [word for word in words if word not in stop_words]\n",
    "    \n",
    "    return ','.join(tags)\n",
    "\n",
    "# Apply the function to the required columns\n",
    "columns_to_extract_tags_from = ['Category', 'Brand', 'Description', 'Tags']\n",
    "for column in columns_to_extract_tags_from:\n",
    "    updated_products[column] = updated_products[column].apply(clean_and_extract_tags)\n"
   ]
  },
  {
   "cell_type": "code",
   "execution_count": 37,
   "id": "eb8a28e8-cb5e-43b1-a916-44adbb63a30b",
   "metadata": {},
   "outputs": [
    {
     "name": "stdout",
     "output_type": "stream",
     "text": [
      "0                                      OPI Infinite Shine\n",
      "1                             Nice n Easy Permanent Color\n",
      "2       Clairol Nice N Easy Permanent Color 7/106A Nat...\n",
      "3                       Kokie Professional Matte Lipstick\n",
      "4               Gillette TRAC II Plus Razor Blade Refills\n",
      "                              ...                        \n",
      "4995             Garden Mint Room Spray (Double Strength)\n",
      "4996    Garnier Nutrisse Nourishing Hair Color Creme (...\n",
      "4997                             Nail File Electric Drill\n",
      "4998    Creed Love In Black Hair And Body Wash 6.8oz/2...\n",
      "4999                                           Foundation\n",
      "Name: Name, Length: 5000, dtype: object\n"
     ]
    },
    {
     "name": "stderr",
     "output_type": "stream",
     "text": [
      "C:\\Users\\HP\\AppData\\Local\\Temp\\ipykernel_20964\\3533027703.py:1: SettingWithCopyWarning: \n",
      "A value is trying to be set on a copy of a slice from a DataFrame.\n",
      "Try using .loc[row_indexer,col_indexer] = value instead\n",
      "\n",
      "See the caveats in the documentation: https://pandas.pydata.org/pandas-docs/stable/user_guide/indexing.html#returning-a-view-versus-a-copy\n",
      "  updated_products['Name'] = updated_products['Name'].str.split(',').str[0]\n"
     ]
    }
   ],
   "source": [
    "\n",
    "updated_products['Name'] = updated_products['Name'].str.split(',').str[0]\n",
    "\n",
    "# Display the updated DataFrame to check the changes\n",
    "print(updated_products['Name'])\n"
   ]
  },
  {
   "cell_type": "code",
   "execution_count": 39,
   "id": "d491b6a4-d0de-4943-96ec-5cc882d4fc66",
   "metadata": {},
   "outputs": [
    {
     "name": "stdout",
     "output_type": "stream",
     "text": [
      "0             Premium Products\n",
      "1       Beauty & Personal Care\n",
      "2       Beauty & Personal Care\n",
      "3       Beauty & Personal Care\n",
      "4            Seasonal Products\n",
      "                 ...          \n",
      "4995      Household Essentials\n",
      "4996    Beauty & Personal Care\n",
      "4997    Beauty & Personal Care\n",
      "4998          Premium Products\n",
      "4999    Beauty & Personal Care\n",
      "Name: Category, Length: 5000, dtype: object\n"
     ]
    },
    {
     "name": "stderr",
     "output_type": "stream",
     "text": [
      "C:\\Users\\HP\\AppData\\Local\\Temp\\ipykernel_20964\\2477459273.py:41: SettingWithCopyWarning: \n",
      "A value is trying to be set on a copy of a slice from a DataFrame.\n",
      "Try using .loc[row_indexer,col_indexer] = value instead\n",
      "\n",
      "See the caveats in the documentation: https://pandas.pydata.org/pandas-docs/stable/user_guide/indexing.html#returning-a-view-versus-a-copy\n",
      "  updated_products['Category'] = updated_products['Category'].apply(map_first_category)\n"
     ]
    }
   ],
   "source": [
    "# Define a mapping of categories to broader categories\n",
    "category_mapping = {\n",
    "    'beauty': 'Beauty & Personal Care',\n",
    "    'makeup': 'Beauty & Personal Care',\n",
    "    'nail': 'Beauty & Personal Care',\n",
    "    'hair': 'Hair Care',\n",
    "    'household': 'Household Essentials',\n",
    "    'premium': 'Premium Products',\n",
    "    'seasonal': 'Seasonal Products',\n",
    "    'personal': 'Personal Care',\n",
    "    'health': 'Health & Wellness',\n",
    "    'home': 'Home & Garden',\n",
    "    'patio': 'Outdoor Living',\n",
    "    'clothing': 'Apparel & Accessories',\n",
    "    'sports': 'Sports & Outdoors',\n",
    "    'baby': 'Baby Products',\n",
    "    'food': 'Food & Beverage',\n",
    "    'auto': 'Automotive Products',\n",
    "    'shop': 'Shopping Essentials',\n",
    "    'gifts': 'Gifts & Specialty Items',\n",
    "    'industrial': 'Industrial & Commercial Supplies',\n",
    "    'pets': 'Pet Supplies',\n",
    "    'character': 'Character Merchandise',\n",
    "    'toys': 'Toys & Games',\n",
    "    'arts': 'Arts & Crafts',\n",
    "    'feature': 'Featured Products',\n",
    "    'cell': 'Cell Phones & Accessories',\n",
    "    'electronics': 'Electronics & Gadgets',\n",
    "    'party': 'Party Supplies',\n",
    "    'jewelry': 'Jewelry & Accessories',\n",
    "    'books': 'Books & Stationery',\n",
    "    'office': 'Office Supplies'\n",
    "}\n",
    "\n",
    "# Function to map only the first word of the category\n",
    "def map_first_category(categories):\n",
    "    first_word = categories.split(',')[0].strip()  # Get the first word\n",
    "    return category_mapping.get(first_word, first_word)  # Map it using the mapping dictionary\n",
    "\n",
    "# Apply the mapping function to the Category column\n",
    "updated_products['Category'] = updated_products['Category'].apply(map_first_category)\n",
    "\n",
    "# Optional: Display the updated DataFrame to check the changes\n",
    "print(updated_products['Category'])\n"
   ]
  },
  {
   "cell_type": "code",
   "execution_count": 41,
   "id": "872d3433-4d7d-4584-8d8c-8313c1c76cec",
   "metadata": {},
   "outputs": [
    {
     "name": "stdout",
     "output_type": "stream",
     "text": [
      "0                                                        \n",
      "1       gloss, copolymer, aminophenol, easy, beautiful...\n",
      "2       apply, make, give, easy, colorings, hair, dark...\n",
      "3       lip, punch, matte, rich, quit, highly, color, ...\n",
      "4       always, well, perfect, handles, today, blades,...\n",
      "                              ...                        \n",
      "4995    usa, mint, contains, dye, home, spray, blend, ...\n",
      "4996    shea, oils, nourishing, root, rich, oil, color...\n",
      "4997    metal, bits, make, rough, chuck, spots, able, ...\n",
      "4998                                                     \n",
      "4999    usa, beige, medium, contains, com, dry, wont, ...\n",
      "Name: Description, Length: 5000, dtype: object\n"
     ]
    },
    {
     "name": "stderr",
     "output_type": "stream",
     "text": [
      "C:\\Users\\HP\\AppData\\Local\\Temp\\ipykernel_20964\\4147711964.py:9: SettingWithCopyWarning: \n",
      "A value is trying to be set on a copy of a slice from a DataFrame.\n",
      "Try using .loc[row_indexer,col_indexer] = value instead\n",
      "\n",
      "See the caveats in the documentation: https://pandas.pydata.org/pandas-docs/stable/user_guide/indexing.html#returning-a-view-versus-a-copy\n",
      "  updated_products['Description'] = updated_products['Description'].apply(keep_unique_words)\n"
     ]
    }
   ],
   "source": [
    "# Function to keep only unique words in the Description column\n",
    "def keep_unique_words(description):\n",
    "    # Split the description into words and convert to a set for uniqueness\n",
    "    unique_words = set(description.split(','))\n",
    "    # Join the unique words back into a string\n",
    "    return ', '.join(unique_words)\n",
    "\n",
    "# Apply the function to the Description column\n",
    "updated_products['Description'] = updated_products['Description'].apply(keep_unique_words)\n",
    "\n",
    "# Optional: Display the updated DataFrame to check the changes\n",
    "print(updated_products['Description'])\n"
   ]
  },
  {
   "cell_type": "code",
   "execution_count": 45,
   "id": "2bc0b9eb-069b-45c6-a505-ff40ae0c3eb0",
   "metadata": {},
   "outputs": [
    {
     "name": "stdout",
     "output_type": "stream",
     "text": [
      "0       https://i5.walmartimages.com/asr/0e1f4c51-c1a4...\n",
      "1       https://i5.walmartimages.com/asr/9c8e42e4-13a5...\n",
      "2       https://i5.walmartimages.com/asr/e3a601c2-6a2b...\n",
      "3       https://i5.walmartimages.com/asr/25b4b467-bc61...\n",
      "4       https://i5.walmartimages.com/asr/1a2ebb06-cd01...\n",
      "                              ...                        \n",
      "4995    https://i5.walmartimages.com/asr/0e0416ae-6b70...\n",
      "4996    https://i5.walmartimages.com/asr/24d7a837-51f8...\n",
      "4997    https://i5.walmartimages.com/asr/d6202179-2c93...\n",
      "4998    https://i5.walmartimages.com/asr/3dc99239-66d2...\n",
      "4999    https://i5.walmartimages.com/asr/a76122fd-322a...\n",
      "Name: ImageURL, Length: 5000, dtype: object\n"
     ]
    },
    {
     "name": "stderr",
     "output_type": "stream",
     "text": [
      "C:\\Users\\HP\\AppData\\Local\\Temp\\ipykernel_20964\\4090354597.py:2: SettingWithCopyWarning: \n",
      "A value is trying to be set on a copy of a slice from a DataFrame.\n",
      "Try using .loc[row_indexer,col_indexer] = value instead\n",
      "\n",
      "See the caveats in the documentation: https://pandas.pydata.org/pandas-docs/stable/user_guide/indexing.html#returning-a-view-versus-a-copy\n",
      "  updated_products['ImageURL'] = updated_products['ImageURL'].str.split('|').str[0]\n"
     ]
    }
   ],
   "source": [
    "# Assuming 'all_products' is your DataFrame\n",
    "updated_products['ImageURL'] = updated_products['ImageURL'].str.split('|').str[0]\n",
    "\n",
    "# Display the updated DataFrame to check the changes\n",
    "print(updated_products['ImageURL'])\n"
   ]
  },
  {
   "cell_type": "code",
   "execution_count": 49,
   "id": "7c0e2316-ffdb-4ae2-9568-7bf4510ac567",
   "metadata": {},
   "outputs": [],
   "source": [
    "#content\n",
    "tfidf = TfidfVectorizer(stop_words='english')\n",
    "tfidf_matrix = tfidf.fit_transform(updated_products['Tags'])\n"
   ]
  },
  {
   "cell_type": "code",
   "execution_count": 51,
   "id": "77f9b1ae-2dc4-4f41-84cd-f2584b580f75",
   "metadata": {},
   "outputs": [],
   "source": [
    "cosine_sim = linear_kernel(tfidf_matrix, tfidf_matrix)"
   ]
  },
  {
   "cell_type": "code",
   "execution_count": 65,
   "id": "4e90677b-067c-4a41-8ef0-e40922feb0bb",
   "metadata": {},
   "outputs": [],
   "source": [
    "def get_recommendations(title, cosine_sim=cosine_sim):\n",
    "    idx = updated_products[updated_products['Name'] == title].index[0]\n",
    "    sim_scores = list(enumerate(cosine_sim[idx]))\n",
    "    sim_scores = sorted(sim_scores, key=lambda x: x[1], reverse=True)\n",
    "    sim_scores = sim_scores[1:11]  # Get top 10 recommendations\n",
    "    product_indices = [i[0] for i in sim_scores]\n",
    "    return df.iloc[product_indices]"
   ]
  },
  {
   "cell_type": "code",
   "execution_count": 67,
   "id": "d6cc6f35-e6eb-4a07-a8e0-8370c2fde633",
   "metadata": {},
   "outputs": [],
   "source": [
    "#collab\n",
    "reader = Reader(rating_scale=(1, 5))\n",
    "data = Dataset.load_from_df(updated_products[['ID', 'ProdID', 'Rating']], reader)"
   ]
  },
  {
   "cell_type": "code",
   "execution_count": 57,
   "id": "4caede5a-ca30-4eb1-a247-058b651e598f",
   "metadata": {},
   "outputs": [],
   "source": [
    "trainset, testset = train_test_split(data, test_size=0.2)"
   ]
  },
  {
   "cell_type": "code",
   "execution_count": 59,
   "id": "fb42bf4a-7587-4fb0-acc4-f2db145d17d3",
   "metadata": {},
   "outputs": [
    {
     "data": {
      "text/plain": [
       "<surprise.prediction_algorithms.matrix_factorization.SVD at 0x2563c25f4d0>"
      ]
     },
     "execution_count": 59,
     "metadata": {},
     "output_type": "execute_result"
    }
   ],
   "source": [
    "model = SVD()\n",
    "model.fit(trainset)"
   ]
  },
  {
   "cell_type": "code",
   "execution_count": 71,
   "id": "3d751ffa-0622-4b6a-b1b8-a1b8353a1195",
   "metadata": {},
   "outputs": [],
   "source": [
    "def get_collaborative_recommendations(user_id, num_recommendations=10):\n",
    "    product_ids = updated_products['ProdID'].unique()\n",
    "    predictions = [model.predict(user_id, prod_id) for prod_id in product_ids]\n",
    "    predictions.sort(key=lambda x: x.est, reverse=True)\n",
    "    recommended_product_ids = [pred[1] for pred in predictions[:num_recommendations]]\n",
    "    return updated_products[updated_products['ProdID'].isin(recommended_product_ids)]\n"
   ]
  },
  {
   "cell_type": "code",
   "execution_count": 73,
   "id": "219e539f-a84f-4b0a-89cb-35ae8e565e8a",
   "metadata": {},
   "outputs": [],
   "source": [
    "def hybrid_recommendation(title, user_id):\n",
    "    content_recs = get_recommendations(title)\n",
    "    collaborative_recs = get_collaborative_recommendations(user_id)\n",
    "    \n",
    "    # Merge and rank recommendations here\n",
    "    # This can be done based on the scores you have from each method\n",
    "    # For simplicity, let's just return the two sets combined\n",
    "    return pd.concat([content_recs, collaborative_recs]).drop_duplicates().head(10)\n"
   ]
  },
  {
   "cell_type": "code",
   "execution_count": 83,
   "id": "3f9cd461-db3d-454b-b013-04eee9f936a8",
   "metadata": {},
   "outputs": [
    {
     "ename": "SyntaxError",
     "evalue": "invalid decimal literal (4289237995.py, line 2)",
     "output_type": "error",
     "traceback": [
      "\u001b[1;36m  Cell \u001b[1;32mIn[83], line 2\u001b[1;36m\u001b[0m\n\u001b[1;33m    print(get_collaborative_recommendations(user_id=1705736792d82aa2f2d3caf1c07c53f4))  # For collaborative filtering\u001b[0m\n\u001b[1;37m                                                             ^\u001b[0m\n\u001b[1;31mSyntaxError\u001b[0m\u001b[1;31m:\u001b[0m invalid decimal literal\n"
     ]
    }
   ],
   "source": [
    "print(get_recommendations(\"Product Name\"))  # For content-based recommendations\n",
    "print(get_collaborative_recommendations(user_id=1705736792d82aa2f2d3caf1c07c53f4))  # For collaborative filtering\n",
    "print(hybrid_recommendation(\"Product Name\", user_id=1705736792d82aa2f2d3caf1c07c53f4))  # For hybrid recommendations"
   ]
  },
  {
   "cell_type": "code",
   "execution_count": 81,
   "id": "75926ae1-e65f-45bb-aa16-70c2242b0f93",
   "metadata": {},
   "outputs": [
    {
     "data": {
      "text/plain": [
       "0       1705736792d82aa2f2d3caf1c07c53f4\n",
       "1       95a9fe6f4810fcfc7ff244fd06784f11\n",
       "2       8d4d0330178d3ed181b15a4102b287f2\n",
       "3       fddc4df45b35efd886794b261f730c51\n",
       "4       0990cf89a59ca6a0460349a3e4f51d42\n",
       "                      ...               \n",
       "4995    2771f0606e9638de508741f52029d51c\n",
       "4996    0f218eb3ac736975ccfdde987baa4b83\n",
       "4997    34d1aa70845416c3df059a088aaf18dc\n",
       "4998    ff9cfa22550bf036e2487a9100d927f1\n",
       "4999    0de862f8c1c4f23b6c4cfe59fd574b59\n",
       "Name: ID, Length: 5000, dtype: object"
      ]
     },
     "execution_count": 81,
     "metadata": {},
     "output_type": "execute_result"
    }
   ],
   "source": [
    "updated_products['ID']"
   ]
  },
  {
   "cell_type": "code",
   "execution_count": 87,
   "id": "ff2f9c17-2da8-4565-8147-c127209c7dea",
   "metadata": {},
   "outputs": [
    {
     "name": "stderr",
     "output_type": "stream",
     "text": [
      "C:\\Users\\HP\\AppData\\Local\\Temp\\ipykernel_20964\\1495778405.py:2: SettingWithCopyWarning: \n",
      "A value is trying to be set on a copy of a slice from a DataFrame.\n",
      "Try using .loc[row_indexer,col_indexer] = value instead\n",
      "\n",
      "See the caveats in the documentation: https://pandas.pydata.org/pandas-docs/stable/user_guide/indexing.html#returning-a-view-versus-a-copy\n",
      "  updated_products['UserID'] = updated_products['ID'].astype('category').cat.codes\n"
     ]
    }
   ],
   "source": [
    "# Create a mapping from complex IDs to sequential integers\n",
    "updated_products['UserID'] = updated_products['ID'].astype('category').cat.codes\n"
   ]
  },
  {
   "cell_type": "code",
   "execution_count": 89,
   "id": "94a903fb-cf74-46a0-9801-5e2ccd83a84c",
   "metadata": {},
   "outputs": [
    {
     "name": "stdout",
     "output_type": "stream",
     "text": [
      "                                    ID  UserID\n",
      "0     0016a804b91dc7940315e093673d0c76       0\n",
      "1     001bb3973ace78025455cd209ad24814       1\n",
      "2     00261b76af7c600795d6f44dac3444dc       2\n",
      "3     002d1e5fa94fb8adacbd90f0832a3c35       3\n",
      "4     00424261c1918e579ab295ea2c35a2b3       4\n",
      "...                                ...     ...\n",
      "4995  ffcf16834a20b68a875f65b06fe93b13    4995\n",
      "4996  ffd6745a7adeb08cef9fcdcfb52be162    4996\n",
      "4997  ffdfcf9ab74213a313268f1ae65d558c    4997\n",
      "4998  ffe30812974331718690097eb03c8239    4998\n",
      "4999  fff427fe76ee4a875cdab7f65cf9c8c4    4999\n",
      "\n",
      "[5000 rows x 2 columns]\n"
     ]
    }
   ],
   "source": [
    "# Create a mapping DataFrame\n",
    "user_mapping = updated_products[['ID', 'UserID']].drop_duplicates().sort_values('UserID').reset_index(drop=True)\n",
    "print(user_mapping)\n"
   ]
  },
  {
   "cell_type": "code",
   "execution_count": null,
   "id": "c873d6ea-3947-4d5a-9eff-ff66abf809cd",
   "metadata": {},
   "outputs": [],
   "source": []
  }
 ],
 "metadata": {
  "kernelspec": {
   "display_name": "Python 3 (ipykernel)",
   "language": "python",
   "name": "python3"
  },
  "language_info": {
   "codemirror_mode": {
    "name": "ipython",
    "version": 3
   },
   "file_extension": ".py",
   "mimetype": "text/x-python",
   "name": "python",
   "nbconvert_exporter": "python",
   "pygments_lexer": "ipython3",
   "version": "3.12.4"
  }
 },
 "nbformat": 4,
 "nbformat_minor": 5
}
