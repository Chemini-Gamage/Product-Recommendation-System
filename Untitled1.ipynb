{
 "cells": [
  {
   "cell_type": "code",
   "execution_count": 1,
   "id": "7f76091b-4598-4d6e-a15e-c0b279142e08",
   "metadata": {},
   "outputs": [],
   "source": [
    "import pandas as pd\n",
    "from sklearn.feature_extraction.text import TfidfVectorizer\n",
    "from sklearn.metrics.pairwise import linear_kernel\n",
    "from surprise import Dataset, Reader, SVD\n",
    "from surprise.model_selection import train_test_split"
   ]
  },
  {
   "cell_type": "code",
   "execution_count": 3,
   "id": "1ed14f79-9700-4036-86b0-f63066ac7cae",
   "metadata": {},
   "outputs": [],
   "source": [
    "products = pd.read_csv(\"walmart__product_review_data.tsv\",sep =\"\\t\")  # Change this to your actual file path"
   ]
  },
  {
   "cell_type": "code",
   "execution_count": 5,
   "id": "7d457fb8-ddef-448b-9739-47ae9437f1a9",
   "metadata": {},
   "outputs": [],
   "source": [
    "updated_products = products[['Uniq Id', 'Crawl Timestamp','Product Id', 'Product Name', 'Product Rating', 'Product Reviews Count', 'Product Category', 'Product Brand', 'Product Image Url',  'Product Description', 'Product Price']]"
   ]
  },
  {
   "cell_type": "code",
   "execution_count": 7,
   "id": "05b921ad-c22b-4c33-b877-6c9818fda01a",
   "metadata": {},
   "outputs": [
    {
     "name": "stderr",
     "output_type": "stream",
     "text": [
      "C:\\Users\\HP\\AppData\\Local\\Temp\\ipykernel_18792\\749105193.py:3: FutureWarning: A value is trying to be set on a copy of a DataFrame or Series through chained assignment using an inplace method.\n",
      "The behavior will change in pandas 3.0. This inplace method will never work because the intermediate object on which we are setting values always behaves as a copy.\n",
      "\n",
      "For example, when doing 'df[col].method(value, inplace=True)', try using 'df.method({col: value}, inplace=True)' or df[col] = df[col].method(value) instead, to perform the operation inplace on the original object.\n",
      "\n",
      "\n",
      "  updated_products['Product Category'].fillna('', inplace=True)\n",
      "C:\\Users\\HP\\AppData\\Local\\Temp\\ipykernel_18792\\749105193.py:3: SettingWithCopyWarning: \n",
      "A value is trying to be set on a copy of a slice from a DataFrame\n",
      "\n",
      "See the caveats in the documentation: https://pandas.pydata.org/pandas-docs/stable/user_guide/indexing.html#returning-a-view-versus-a-copy\n",
      "  updated_products['Product Category'].fillna('', inplace=True)\n",
      "C:\\Users\\HP\\AppData\\Local\\Temp\\ipykernel_18792\\749105193.py:4: FutureWarning: A value is trying to be set on a copy of a DataFrame or Series through chained assignment using an inplace method.\n",
      "The behavior will change in pandas 3.0. This inplace method will never work because the intermediate object on which we are setting values always behaves as a copy.\n",
      "\n",
      "For example, when doing 'df[col].method(value, inplace=True)', try using 'df.method({col: value}, inplace=True)' or df[col] = df[col].method(value) instead, to perform the operation inplace on the original object.\n",
      "\n",
      "\n",
      "  updated_products['Product Brand'].fillna('', inplace=True)\n",
      "C:\\Users\\HP\\AppData\\Local\\Temp\\ipykernel_18792\\749105193.py:4: SettingWithCopyWarning: \n",
      "A value is trying to be set on a copy of a slice from a DataFrame\n",
      "\n",
      "See the caveats in the documentation: https://pandas.pydata.org/pandas-docs/stable/user_guide/indexing.html#returning-a-view-versus-a-copy\n",
      "  updated_products['Product Brand'].fillna('', inplace=True)\n",
      "C:\\Users\\HP\\AppData\\Local\\Temp\\ipykernel_18792\\749105193.py:7: FutureWarning: A value is trying to be set on a copy of a DataFrame or Series through chained assignment using an inplace method.\n",
      "The behavior will change in pandas 3.0. This inplace method will never work because the intermediate object on which we are setting values always behaves as a copy.\n",
      "\n",
      "For example, when doing 'df[col].method(value, inplace=True)', try using 'df.method({col: value}, inplace=True)' or df[col] = df[col].method(value) instead, to perform the operation inplace on the original object.\n",
      "\n",
      "\n",
      "  updated_products['Product Description'].fillna('', inplace=True)\n",
      "C:\\Users\\HP\\AppData\\Local\\Temp\\ipykernel_18792\\749105193.py:7: SettingWithCopyWarning: \n",
      "A value is trying to be set on a copy of a slice from a DataFrame\n",
      "\n",
      "See the caveats in the documentation: https://pandas.pydata.org/pandas-docs/stable/user_guide/indexing.html#returning-a-view-versus-a-copy\n",
      "  updated_products['Product Description'].fillna('', inplace=True)\n",
      "C:\\Users\\HP\\AppData\\Local\\Temp\\ipykernel_18792\\749105193.py:10: FutureWarning: A value is trying to be set on a copy of a DataFrame or Series through chained assignment using an inplace method.\n",
      "The behavior will change in pandas 3.0. This inplace method will never work because the intermediate object on which we are setting values always behaves as a copy.\n",
      "\n",
      "For example, when doing 'df[col].method(value, inplace=True)', try using 'df.method({col: value}, inplace=True)' or df[col] = df[col].method(value) instead, to perform the operation inplace on the original object.\n",
      "\n",
      "\n",
      "  updated_products['Product Rating'].fillna(updated_products['Product Rating'].mean(), inplace=True)\n",
      "C:\\Users\\HP\\AppData\\Local\\Temp\\ipykernel_18792\\749105193.py:10: SettingWithCopyWarning: \n",
      "A value is trying to be set on a copy of a slice from a DataFrame\n",
      "\n",
      "See the caveats in the documentation: https://pandas.pydata.org/pandas-docs/stable/user_guide/indexing.html#returning-a-view-versus-a-copy\n",
      "  updated_products['Product Rating'].fillna(updated_products['Product Rating'].mean(), inplace=True)\n",
      "C:\\Users\\HP\\AppData\\Local\\Temp\\ipykernel_18792\\749105193.py:11: FutureWarning: A value is trying to be set on a copy of a DataFrame or Series through chained assignment using an inplace method.\n",
      "The behavior will change in pandas 3.0. This inplace method will never work because the intermediate object on which we are setting values always behaves as a copy.\n",
      "\n",
      "For example, when doing 'df[col].method(value, inplace=True)', try using 'df.method({col: value}, inplace=True)' or df[col] = df[col].method(value) instead, to perform the operation inplace on the original object.\n",
      "\n",
      "\n",
      "  updated_products['Product Reviews Count'].fillna(updated_products['Product Reviews Count'].median(), inplace=True)\n",
      "C:\\Users\\HP\\AppData\\Local\\Temp\\ipykernel_18792\\749105193.py:11: SettingWithCopyWarning: \n",
      "A value is trying to be set on a copy of a slice from a DataFrame\n",
      "\n",
      "See the caveats in the documentation: https://pandas.pydata.org/pandas-docs/stable/user_guide/indexing.html#returning-a-view-versus-a-copy\n",
      "  updated_products['Product Reviews Count'].fillna(updated_products['Product Reviews Count'].median(), inplace=True)\n",
      "C:\\Users\\HP\\AppData\\Local\\Temp\\ipykernel_18792\\749105193.py:12: FutureWarning: A value is trying to be set on a copy of a DataFrame or Series through chained assignment using an inplace method.\n",
      "The behavior will change in pandas 3.0. This inplace method will never work because the intermediate object on which we are setting values always behaves as a copy.\n",
      "\n",
      "For example, when doing 'df[col].method(value, inplace=True)', try using 'df.method({col: value}, inplace=True)' or df[col] = df[col].method(value) instead, to perform the operation inplace on the original object.\n",
      "\n",
      "\n",
      "  updated_products['Product Price'].fillna(updated_products['Product Price'].mean(), inplace=True)\n",
      "C:\\Users\\HP\\AppData\\Local\\Temp\\ipykernel_18792\\749105193.py:12: SettingWithCopyWarning: \n",
      "A value is trying to be set on a copy of a slice from a DataFrame\n",
      "\n",
      "See the caveats in the documentation: https://pandas.pydata.org/pandas-docs/stable/user_guide/indexing.html#returning-a-view-versus-a-copy\n",
      "  updated_products['Product Price'].fillna(updated_products['Product Price'].mean(), inplace=True)\n"
     ]
    },
    {
     "data": {
      "text/plain": [
       "Uniq Id                  0\n",
       "Crawl Timestamp          0\n",
       "Product Id               0\n",
       "Product Name             0\n",
       "Product Rating           0\n",
       "Product Reviews Count    0\n",
       "Product Category         0\n",
       "Product Brand            0\n",
       "Product Image Url        0\n",
       "Product Description      0\n",
       "Product Price            0\n",
       "dtype: int64"
      ]
     },
     "execution_count": 7,
     "metadata": {},
     "output_type": "execute_result"
    }
   ],
   "source": [
    "#to fill the missing values\n",
    "\n",
    "updated_products['Product Category'].fillna('', inplace=True)\n",
    "updated_products['Product Brand'].fillna('', inplace=True)\n",
    "\n",
    "#filled witin an emply string\n",
    "updated_products['Product Description'].fillna('', inplace=True)\n",
    "\n",
    "# Assuming df is your DataFrame\n",
    "updated_products['Product Rating'].fillna(updated_products['Product Rating'].mean(), inplace=True)\n",
    "updated_products['Product Reviews Count'].fillna(updated_products['Product Reviews Count'].median(), inplace=True)\n",
    "updated_products['Product Price'].fillna(updated_products['Product Price'].mean(), inplace=True)\n",
    "\n",
    "\n",
    "#null values check\n",
    "updated_products.isnull().sum()"
   ]
  },
  {
   "cell_type": "code",
   "execution_count": 9,
   "id": "3d3ff87b-2547-412d-a3b4-0333cfd53f2e",
   "metadata": {},
   "outputs": [
    {
     "name": "stderr",
     "output_type": "stream",
     "text": [
      "C:\\Users\\HP\\AppData\\Local\\Temp\\ipykernel_18792\\3486415391.py:3: SettingWithCopyWarning: \n",
      "A value is trying to be set on a copy of a slice from a DataFrame.\n",
      "Try using .loc[row_indexer,col_indexer] = value instead\n",
      "\n",
      "See the caveats in the documentation: https://pandas.pydata.org/pandas-docs/stable/user_guide/indexing.html#returning-a-view-versus-a-copy\n",
      "  updated_products['Product Tags'] = product_tags\n"
     ]
    },
    {
     "data": {
      "text/html": [
       "<div>\n",
       "<style scoped>\n",
       "    .dataframe tbody tr th:only-of-type {\n",
       "        vertical-align: middle;\n",
       "    }\n",
       "\n",
       "    .dataframe tbody tr th {\n",
       "        vertical-align: top;\n",
       "    }\n",
       "\n",
       "    .dataframe thead th {\n",
       "        text-align: right;\n",
       "    }\n",
       "</style>\n",
       "<table border=\"1\" class=\"dataframe\">\n",
       "  <thead>\n",
       "    <tr style=\"text-align: right;\">\n",
       "      <th></th>\n",
       "      <th>Uniq Id</th>\n",
       "      <th>Crawl Timestamp</th>\n",
       "      <th>Product Id</th>\n",
       "      <th>Product Name</th>\n",
       "      <th>Product Rating</th>\n",
       "      <th>Product Reviews Count</th>\n",
       "      <th>Product Category</th>\n",
       "      <th>Product Brand</th>\n",
       "      <th>Product Image Url</th>\n",
       "      <th>Product Description</th>\n",
       "      <th>Product Price</th>\n",
       "      <th>Product Tags</th>\n",
       "    </tr>\n",
       "  </thead>\n",
       "  <tbody>\n",
       "    <tr>\n",
       "      <th>0</th>\n",
       "      <td>1705736792d82aa2f2d3caf1c07c53f4</td>\n",
       "      <td>2020-09-24 03:21:12 +0000</td>\n",
       "      <td>2e17bf4acecdece67fc00f07ad62c910</td>\n",
       "      <td>OPI Infinite Shine, Nail Lacquer Nail Polish, ...</td>\n",
       "      <td>4.294622</td>\n",
       "      <td>20.0</td>\n",
       "      <td>Premium Beauty &gt; Premium Makeup &gt; Premium Nail...</td>\n",
       "      <td>OPI</td>\n",
       "      <td>https://i5.walmartimages.com/asr/0e1f4c51-c1a4...</td>\n",
       "      <td></td>\n",
       "      <td>8.95</td>\n",
       "      <td>Premium Beauty &gt; Premium Makeup &gt; Premium Nail...</td>\n",
       "    </tr>\n",
       "  </tbody>\n",
       "</table>\n",
       "</div>"
      ],
      "text/plain": [
       "                            Uniq Id            Crawl Timestamp  \\\n",
       "0  1705736792d82aa2f2d3caf1c07c53f4  2020-09-24 03:21:12 +0000   \n",
       "\n",
       "                         Product Id  \\\n",
       "0  2e17bf4acecdece67fc00f07ad62c910   \n",
       "\n",
       "                                        Product Name  Product Rating  \\\n",
       "0  OPI Infinite Shine, Nail Lacquer Nail Polish, ...        4.294622   \n",
       "\n",
       "   Product Reviews Count                                   Product Category  \\\n",
       "0                   20.0  Premium Beauty > Premium Makeup > Premium Nail...   \n",
       "\n",
       "  Product Brand                                  Product Image Url  \\\n",
       "0           OPI  https://i5.walmartimages.com/asr/0e1f4c51-c1a4...   \n",
       "\n",
       "  Product Description  Product Price  \\\n",
       "0                               8.95   \n",
       "\n",
       "                                        Product Tags  \n",
       "0  Premium Beauty > Premium Makeup > Premium Nail...  "
      ]
     },
     "execution_count": 9,
     "metadata": {},
     "output_type": "execute_result"
    }
   ],
   "source": [
    "product_tags = (updated_products['Product Category'] + updated_products['Product Brand'] + updated_products['Product Description'] )\n",
    "product_tags\n",
    "updated_products['Product Tags'] = product_tags\n",
    "updated_products.head(1)"
   ]
  },
  {
   "cell_type": "code",
   "execution_count": 11,
   "id": "3117a050-ae67-4537-8265-3c11d4542965",
   "metadata": {},
   "outputs": [
    {
     "name": "stderr",
     "output_type": "stream",
     "text": [
      "C:\\Users\\HP\\AppData\\Local\\Temp\\ipykernel_18792\\1177720528.py:18: SettingWithCopyWarning: \n",
      "A value is trying to be set on a copy of a slice from a DataFrame\n",
      "\n",
      "See the caveats in the documentation: https://pandas.pydata.org/pandas-docs/stable/user_guide/indexing.html#returning-a-view-versus-a-copy\n",
      "  updated_products.rename(columns =colummn_name_mapping,inplace=True)\n"
     ]
    }
   ],
   "source": [
    "#TO MAKE THE COLUMNS NAMES SHORTER\n",
    "colummn_name_mapping={\n",
    "    'Uniq Id':'ID',\n",
    "    'Crawl Timestamp' : 'Timestamp', \n",
    "    'Product Id':'ProdID',\n",
    "    'Product Rating':'Rating',\n",
    "'Product Reviews Count':'ReviewCount',\n",
    "       'Product Category':'Category',\n",
    "    'Product Brand':'Brand',\n",
    "    'Product Name':'Name',\n",
    "       'Product Image Url':'ImageURL',\n",
    "    'Product Description':'Description', \n",
    "    'Product Price' : 'Price',\n",
    "    'Product Tags':'Tags',\n",
    "   \n",
    "}\n",
    "#rename the cols\n",
    "updated_products.rename(columns =colummn_name_mapping,inplace=True)"
   ]
  },
  {
   "cell_type": "code",
   "execution_count": 13,
   "id": "f226fdfb-7658-4bec-8d3b-63ff7d0d2f6c",
   "metadata": {},
   "outputs": [
    {
     "name": "stderr",
     "output_type": "stream",
     "text": [
      "[nltk_data] Downloading package stopwords to\n",
      "[nltk_data]     C:\\Users\\HP\\AppData\\Roaming\\nltk_data...\n",
      "[nltk_data]   Package stopwords is already up-to-date!\n",
      "C:\\Users\\HP\\AppData\\Local\\Temp\\ipykernel_18792\\1389692670.py:27: SettingWithCopyWarning: \n",
      "A value is trying to be set on a copy of a slice from a DataFrame.\n",
      "Try using .loc[row_indexer,col_indexer] = value instead\n",
      "\n",
      "See the caveats in the documentation: https://pandas.pydata.org/pandas-docs/stable/user_guide/indexing.html#returning-a-view-versus-a-copy\n",
      "  updated_products[column] = updated_products[column].apply(clean_and_extract_tags)\n"
     ]
    }
   ],
   "source": [
    "import re\n",
    "import nltk\n",
    "from nltk.corpus import stopwords\n",
    "\n",
    "# Download NLTK stopwords (only needs to be run once)\n",
    "nltk.download('stopwords')\n",
    "\n",
    "# Get English stop words from NLTK\n",
    "stop_words = set(stopwords.words('english'))\n",
    "\n",
    "# Function to clean and extract tags\n",
    "def clean_and_extract_tags(text):\n",
    "    # Convert text to lowercase\n",
    "    text = text.lower()\n",
    "    \n",
    "    # Use regular expressions to find words only (letters a-z)\n",
    "    words = re.findall(r'\\b[a-z]+\\b', text)\n",
    "    \n",
    "    # Remove stop words\n",
    "    tags = [word for word in words if word not in stop_words]\n",
    "    \n",
    "    return ','.join(tags)\n",
    "\n",
    "# Apply the function to the required columns\n",
    "columns_to_extract_tags_from = ['Category', 'Brand', 'Description', 'Tags']\n",
    "for column in columns_to_extract_tags_from:\n",
    "    updated_products[column] = updated_products[column].apply(clean_and_extract_tags)\n"
   ]
  },
  {
   "cell_type": "code",
   "execution_count": 15,
   "id": "29d671e8-ad14-4f6d-9a2c-00f190648fe7",
   "metadata": {},
   "outputs": [
    {
     "name": "stdout",
     "output_type": "stream",
     "text": [
      "0                                      OPI Infinite Shine\n",
      "1                             Nice n Easy Permanent Color\n",
      "2       Clairol Nice N Easy Permanent Color 7/106A Nat...\n",
      "3                       Kokie Professional Matte Lipstick\n",
      "4               Gillette TRAC II Plus Razor Blade Refills\n",
      "                              ...                        \n",
      "4995             Garden Mint Room Spray (Double Strength)\n",
      "4996    Garnier Nutrisse Nourishing Hair Color Creme (...\n",
      "4997                             Nail File Electric Drill\n",
      "4998    Creed Love In Black Hair And Body Wash 6.8oz/2...\n",
      "4999                                           Foundation\n",
      "Name: Name, Length: 5000, dtype: object\n"
     ]
    },
    {
     "name": "stderr",
     "output_type": "stream",
     "text": [
      "C:\\Users\\HP\\AppData\\Local\\Temp\\ipykernel_18792\\3533027703.py:1: SettingWithCopyWarning: \n",
      "A value is trying to be set on a copy of a slice from a DataFrame.\n",
      "Try using .loc[row_indexer,col_indexer] = value instead\n",
      "\n",
      "See the caveats in the documentation: https://pandas.pydata.org/pandas-docs/stable/user_guide/indexing.html#returning-a-view-versus-a-copy\n",
      "  updated_products['Name'] = updated_products['Name'].str.split(',').str[0]\n"
     ]
    }
   ],
   "source": [
    "\n",
    "updated_products['Name'] = updated_products['Name'].str.split(',').str[0]\n",
    "\n",
    "# Display the updated DataFrame to check the changes\n",
    "print(updated_products['Name'])\n"
   ]
  },
  {
   "cell_type": "code",
   "execution_count": 17,
   "id": "682d6078-f93d-4783-bd49-df236df2ade8",
   "metadata": {},
   "outputs": [
    {
     "name": "stdout",
     "output_type": "stream",
     "text": [
      "0             Premium Products\n",
      "1       Beauty & Personal Care\n",
      "2       Beauty & Personal Care\n",
      "3       Beauty & Personal Care\n",
      "4            Seasonal Products\n",
      "                 ...          \n",
      "4995      Household Essentials\n",
      "4996    Beauty & Personal Care\n",
      "4997    Beauty & Personal Care\n",
      "4998          Premium Products\n",
      "4999    Beauty & Personal Care\n",
      "Name: Category, Length: 5000, dtype: object\n"
     ]
    },
    {
     "name": "stderr",
     "output_type": "stream",
     "text": [
      "C:\\Users\\HP\\AppData\\Local\\Temp\\ipykernel_18792\\2477459273.py:41: SettingWithCopyWarning: \n",
      "A value is trying to be set on a copy of a slice from a DataFrame.\n",
      "Try using .loc[row_indexer,col_indexer] = value instead\n",
      "\n",
      "See the caveats in the documentation: https://pandas.pydata.org/pandas-docs/stable/user_guide/indexing.html#returning-a-view-versus-a-copy\n",
      "  updated_products['Category'] = updated_products['Category'].apply(map_first_category)\n"
     ]
    }
   ],
   "source": [
    "# Define a mapping of categories to broader categories\n",
    "category_mapping = {\n",
    "    'beauty': 'Beauty & Personal Care',\n",
    "    'makeup': 'Beauty & Personal Care',\n",
    "    'nail': 'Beauty & Personal Care',\n",
    "    'hair': 'Hair Care',\n",
    "    'household': 'Household Essentials',\n",
    "    'premium': 'Premium Products',\n",
    "    'seasonal': 'Seasonal Products',\n",
    "    'personal': 'Personal Care',\n",
    "    'health': 'Health & Wellness',\n",
    "    'home': 'Home & Garden',\n",
    "    'patio': 'Outdoor Living',\n",
    "    'clothing': 'Apparel & Accessories',\n",
    "    'sports': 'Sports & Outdoors',\n",
    "    'baby': 'Baby Products',\n",
    "    'food': 'Food & Beverage',\n",
    "    'auto': 'Automotive Products',\n",
    "    'shop': 'Shopping Essentials',\n",
    "    'gifts': 'Gifts & Specialty Items',\n",
    "    'industrial': 'Industrial & Commercial Supplies',\n",
    "    'pets': 'Pet Supplies',\n",
    "    'character': 'Character Merchandise',\n",
    "    'toys': 'Toys & Games',\n",
    "    'arts': 'Arts & Crafts',\n",
    "    'feature': 'Featured Products',\n",
    "    'cell': 'Cell Phones & Accessories',\n",
    "    'electronics': 'Electronics & Gadgets',\n",
    "    'party': 'Party Supplies',\n",
    "    'jewelry': 'Jewelry & Accessories',\n",
    "    'books': 'Books & Stationery',\n",
    "    'office': 'Office Supplies'\n",
    "}\n",
    "\n",
    "# Function to map only the first word of the category\n",
    "def map_first_category(categories):\n",
    "    first_word = categories.split(',')[0].strip()  # Get the first word\n",
    "    return category_mapping.get(first_word, first_word)  # Map it using the mapping dictionary\n",
    "\n",
    "# Apply the mapping function to the Category column\n",
    "updated_products['Category'] = updated_products['Category'].apply(map_first_category)\n",
    "\n",
    "# Optional: Display the updated DataFrame to check the changes\n",
    "print(updated_products['Category'])\n"
   ]
  },
  {
   "cell_type": "code",
   "execution_count": 19,
   "id": "0ebc80db-6416-4915-925b-09c85559d01c",
   "metadata": {},
   "outputs": [
    {
     "name": "stdout",
     "output_type": "stream",
     "text": [
      "0                                                        \n",
      "1       ingredients, hydrogenated, hydrolyzed, brillia...\n",
      "2       cc, true, brown, colorseal, kit, sold, nice, w...\n",
      "3       even, matte, go, highly, lip, lasting, liners,...\n",
      "4       even, always, comfortable, get, first, use, sy...\n",
      "                              ...                        \n",
      "4995    eliminate, adding, prefer, lovely, room, origi...\n",
      "4996    brunette, ampoule, brown, nourishes, shades, l...\n",
      "4997    cuticles, clockwise, files, safer, corners, en...\n",
      "4998                                                     \n",
      "4999    ingredients, us, breathable, base, without, mo...\n",
      "Name: Description, Length: 5000, dtype: object\n"
     ]
    },
    {
     "name": "stderr",
     "output_type": "stream",
     "text": [
      "C:\\Users\\HP\\AppData\\Local\\Temp\\ipykernel_18792\\4147711964.py:9: SettingWithCopyWarning: \n",
      "A value is trying to be set on a copy of a slice from a DataFrame.\n",
      "Try using .loc[row_indexer,col_indexer] = value instead\n",
      "\n",
      "See the caveats in the documentation: https://pandas.pydata.org/pandas-docs/stable/user_guide/indexing.html#returning-a-view-versus-a-copy\n",
      "  updated_products['Description'] = updated_products['Description'].apply(keep_unique_words)\n"
     ]
    }
   ],
   "source": [
    "# Function to keep only unique words in the Description column\n",
    "def keep_unique_words(description):\n",
    "    # Split the description into words and convert to a set for uniqueness\n",
    "    unique_words = set(description.split(','))\n",
    "    # Join the unique words back into a string\n",
    "    return ', '.join(unique_words)\n",
    "\n",
    "# Apply the function to the Description column\n",
    "updated_products['Description'] = updated_products['Description'].apply(keep_unique_words)\n",
    "\n",
    "# Optional: Display the updated DataFrame to check the changes\n",
    "print(updated_products['Description'])\n"
   ]
  },
  {
   "cell_type": "code",
   "execution_count": 21,
   "id": "c95878ea-ac3a-4cc5-b6fd-03daeb830843",
   "metadata": {},
   "outputs": [
    {
     "name": "stdout",
     "output_type": "stream",
     "text": [
      "0       https://i5.walmartimages.com/asr/0e1f4c51-c1a4...\n",
      "1       https://i5.walmartimages.com/asr/9c8e42e4-13a5...\n",
      "2       https://i5.walmartimages.com/asr/e3a601c2-6a2b...\n",
      "3       https://i5.walmartimages.com/asr/25b4b467-bc61...\n",
      "4       https://i5.walmartimages.com/asr/1a2ebb06-cd01...\n",
      "                              ...                        \n",
      "4995    https://i5.walmartimages.com/asr/0e0416ae-6b70...\n",
      "4996    https://i5.walmartimages.com/asr/24d7a837-51f8...\n",
      "4997    https://i5.walmartimages.com/asr/d6202179-2c93...\n",
      "4998    https://i5.walmartimages.com/asr/3dc99239-66d2...\n",
      "4999    https://i5.walmartimages.com/asr/a76122fd-322a...\n",
      "Name: ImageURL, Length: 5000, dtype: object\n"
     ]
    },
    {
     "name": "stderr",
     "output_type": "stream",
     "text": [
      "C:\\Users\\HP\\AppData\\Local\\Temp\\ipykernel_18792\\4090354597.py:2: SettingWithCopyWarning: \n",
      "A value is trying to be set on a copy of a slice from a DataFrame.\n",
      "Try using .loc[row_indexer,col_indexer] = value instead\n",
      "\n",
      "See the caveats in the documentation: https://pandas.pydata.org/pandas-docs/stable/user_guide/indexing.html#returning-a-view-versus-a-copy\n",
      "  updated_products['ImageURL'] = updated_products['ImageURL'].str.split('|').str[0]\n"
     ]
    }
   ],
   "source": [
    "# Assuming 'all_products' is your DataFrame\n",
    "updated_products['ImageURL'] = updated_products['ImageURL'].str.split('|').str[0]\n",
    "\n",
    "# Display the updated DataFrame to check the changes\n",
    "print(updated_products['ImageURL'])\n"
   ]
  },
  {
   "cell_type": "code",
   "execution_count": 23,
   "id": "ae5e181e-0aea-4eb2-a4b0-f1e27572cfb5",
   "metadata": {},
   "outputs": [
    {
     "name": "stdout",
     "output_type": "stream",
     "text": [
      "                                    ID  UserID\n",
      "0     0016a804b91dc7940315e093673d0c76       0\n",
      "1     001bb3973ace78025455cd209ad24814       1\n",
      "2     00261b76af7c600795d6f44dac3444dc       2\n",
      "3     002d1e5fa94fb8adacbd90f0832a3c35       3\n",
      "4     00424261c1918e579ab295ea2c35a2b3       4\n",
      "...                                ...     ...\n",
      "4995  ffcf16834a20b68a875f65b06fe93b13    4995\n",
      "4996  ffd6745a7adeb08cef9fcdcfb52be162    4996\n",
      "4997  ffdfcf9ab74213a313268f1ae65d558c    4997\n",
      "4998  ffe30812974331718690097eb03c8239    4998\n",
      "4999  fff427fe76ee4a875cdab7f65cf9c8c4    4999\n",
      "\n",
      "[5000 rows x 2 columns]\n"
     ]
    },
    {
     "name": "stderr",
     "output_type": "stream",
     "text": [
      "C:\\Users\\HP\\AppData\\Local\\Temp\\ipykernel_18792\\1428646686.py:2: SettingWithCopyWarning: \n",
      "A value is trying to be set on a copy of a slice from a DataFrame.\n",
      "Try using .loc[row_indexer,col_indexer] = value instead\n",
      "\n",
      "See the caveats in the documentation: https://pandas.pydata.org/pandas-docs/stable/user_guide/indexing.html#returning-a-view-versus-a-copy\n",
      "  updated_products['UserID'] = updated_products['ID'].astype('category').cat.codes\n"
     ]
    }
   ],
   "source": [
    "# Create a mapping from complex IDs to sequential integers\n",
    "updated_products['UserID'] = updated_products['ID'].astype('category').cat.codes\n",
    "# Create a mapping DataFrame\n",
    "user_mapping = updated_products[['ID', 'UserID']].drop_duplicates().sort_values('UserID').reset_index(drop=True)\n",
    "print(user_mapping)\n"
   ]
  },
  {
   "cell_type": "code",
   "execution_count": 25,
   "id": "bffabcb2-a593-4b38-adac-3fa42f61a329",
   "metadata": {},
   "outputs": [
    {
     "data": {
      "text/html": [
       "<div>\n",
       "<style scoped>\n",
       "    .dataframe tbody tr th:only-of-type {\n",
       "        vertical-align: middle;\n",
       "    }\n",
       "\n",
       "    .dataframe tbody tr th {\n",
       "        vertical-align: top;\n",
       "    }\n",
       "\n",
       "    .dataframe thead th {\n",
       "        text-align: right;\n",
       "    }\n",
       "</style>\n",
       "<table border=\"1\" class=\"dataframe\">\n",
       "  <thead>\n",
       "    <tr style=\"text-align: right;\">\n",
       "      <th></th>\n",
       "      <th>ID</th>\n",
       "      <th>Timestamp</th>\n",
       "      <th>ProdID</th>\n",
       "      <th>Name</th>\n",
       "      <th>Rating</th>\n",
       "      <th>ReviewCount</th>\n",
       "      <th>Category</th>\n",
       "      <th>Brand</th>\n",
       "      <th>ImageURL</th>\n",
       "      <th>Description</th>\n",
       "      <th>Price</th>\n",
       "      <th>Tags</th>\n",
       "      <th>UserID</th>\n",
       "    </tr>\n",
       "  </thead>\n",
       "  <tbody>\n",
       "    <tr>\n",
       "      <th>0</th>\n",
       "      <td>1705736792d82aa2f2d3caf1c07c53f4</td>\n",
       "      <td>2020-09-24 03:21:12 +0000</td>\n",
       "      <td>2e17bf4acecdece67fc00f07ad62c910</td>\n",
       "      <td>OPI Infinite Shine</td>\n",
       "      <td>4.294622</td>\n",
       "      <td>20.0</td>\n",
       "      <td>Premium Products</td>\n",
       "      <td>opi</td>\n",
       "      <td>https://i5.walmartimages.com/asr/0e1f4c51-c1a4...</td>\n",
       "      <td></td>\n",
       "      <td>8.95</td>\n",
       "      <td>premium,beauty,premium,makeup,premium,nail,pol...</td>\n",
       "      <td>439</td>\n",
       "    </tr>\n",
       "    <tr>\n",
       "      <th>1</th>\n",
       "      <td>95a9fe6f4810fcfc7ff244fd06784f11</td>\n",
       "      <td>2020-10-30 14:04:08 +0000</td>\n",
       "      <td>076e5854a62dd283c253d6bae415af1f</td>\n",
       "      <td>Nice n Easy Permanent Color</td>\n",
       "      <td>4.294622</td>\n",
       "      <td>20.0</td>\n",
       "      <td>Beauty &amp; Personal Care</td>\n",
       "      <td>nice,n,easy</td>\n",
       "      <td>https://i5.walmartimages.com/asr/9c8e42e4-13a5...</td>\n",
       "      <td>ingredients, hydrogenated, hydrolyzed, brillia...</td>\n",
       "      <td>29.86</td>\n",
       "      <td>beauty,hair,care,hair,color,auburn,hair,colorn...</td>\n",
       "      <td>2921</td>\n",
       "    </tr>\n",
       "  </tbody>\n",
       "</table>\n",
       "</div>"
      ],
      "text/plain": [
       "                                 ID                  Timestamp  \\\n",
       "0  1705736792d82aa2f2d3caf1c07c53f4  2020-09-24 03:21:12 +0000   \n",
       "1  95a9fe6f4810fcfc7ff244fd06784f11  2020-10-30 14:04:08 +0000   \n",
       "\n",
       "                             ProdID                         Name    Rating  \\\n",
       "0  2e17bf4acecdece67fc00f07ad62c910           OPI Infinite Shine  4.294622   \n",
       "1  076e5854a62dd283c253d6bae415af1f  Nice n Easy Permanent Color  4.294622   \n",
       "\n",
       "   ReviewCount                Category        Brand  \\\n",
       "0         20.0        Premium Products          opi   \n",
       "1         20.0  Beauty & Personal Care  nice,n,easy   \n",
       "\n",
       "                                            ImageURL  \\\n",
       "0  https://i5.walmartimages.com/asr/0e1f4c51-c1a4...   \n",
       "1  https://i5.walmartimages.com/asr/9c8e42e4-13a5...   \n",
       "\n",
       "                                         Description  Price  \\\n",
       "0                                                      8.95   \n",
       "1  ingredients, hydrogenated, hydrolyzed, brillia...  29.86   \n",
       "\n",
       "                                                Tags  UserID  \n",
       "0  premium,beauty,premium,makeup,premium,nail,pol...     439  \n",
       "1  beauty,hair,care,hair,color,auburn,hair,colorn...    2921  "
      ]
     },
     "execution_count": 25,
     "metadata": {},
     "output_type": "execute_result"
    }
   ],
   "source": [
    "updated_products.head(2)"
   ]
  },
  {
   "cell_type": "code",
   "execution_count": 29,
   "id": "18623288-bbf8-4881-ac67-fae5620ce1c0",
   "metadata": {},
   "outputs": [
    {
     "name": "stdout",
     "output_type": "stream",
     "text": [
      "                                 ID                  Timestamp  \\\n",
      "0  1705736792d82aa2f2d3caf1c07c53f4  2020-09-24 03:21:12 +0000   \n",
      "1  95a9fe6f4810fcfc7ff244fd06784f11  2020-10-30 14:04:08 +0000   \n",
      "2  8d4d0330178d3ed181b15a4102b287f2  2020-08-06 05:51:47 +0000   \n",
      "3  fddc4df45b35efd886794b261f730c51  2020-07-15 11:22:04 +0000   \n",
      "4  0990cf89a59ca6a0460349a3e4f51d42  2020-11-26T12:27:20+00:00   \n",
      "\n",
      "                             ProdID  \\\n",
      "0  2e17bf4acecdece67fc00f07ad62c910   \n",
      "1  076e5854a62dd283c253d6bae415af1f   \n",
      "2  8a4fe5d9c7a6ed26cc44d785a454b124   \n",
      "3  03b5fb878a33eadff8b033419eab9669   \n",
      "4  ce3d761e57d6ccad80619297b5b1bcbc   \n",
      "\n",
      "                                                Name    Rating  ReviewCount  \\\n",
      "0                                 OPI Infinite Shine  4.294622         20.0   \n",
      "1                        Nice n Easy Permanent Color  4.294622         20.0   \n",
      "2  Clairol Nice N Easy Permanent Color 7/106A Nat...  4.500000      29221.0   \n",
      "3                  Kokie Professional Matte Lipstick  4.294622         20.0   \n",
      "4          Gillette TRAC II Plus Razor Blade Refills  4.294622        131.0   \n",
      "\n",
      "                 Category            Brand  \\\n",
      "0        Premium Products              opi   \n",
      "1  Beauty & Personal Care      nice,n,easy   \n",
      "2  Beauty & Personal Care          clairol   \n",
      "3  Beauty & Personal Care  kokie,cosmetics   \n",
      "4       Seasonal Products         gillette   \n",
      "\n",
      "                                            ImageURL  \\\n",
      "0  https://i5.walmartimages.com/asr/0e1f4c51-c1a4...   \n",
      "1  https://i5.walmartimages.com/asr/9c8e42e4-13a5...   \n",
      "2  https://i5.walmartimages.com/asr/e3a601c2-6a2b...   \n",
      "3  https://i5.walmartimages.com/asr/25b4b467-bc61...   \n",
      "4  https://i5.walmartimages.com/asr/1a2ebb06-cd01...   \n",
      "\n",
      "                                         Description  Price  \\\n",
      "0                                                      8.95   \n",
      "1  ingredients, hydrogenated, hydrolyzed, brillia...  29.86   \n",
      "2  cc, true, brown, colorseal, kit, sold, nice, w...   7.99   \n",
      "3  even, matte, go, highly, lip, lasting, liners,...   5.16   \n",
      "4  even, always, comfortable, get, first, use, sy...  19.97   \n",
      "\n",
      "                                                Tags  UserID  \n",
      "0  premium,beauty,premium,makeup,premium,nail,pol...     439  \n",
      "1  beauty,hair,care,hair,color,auburn,hair,colorn...    2921  \n",
      "2  beauty,hair,care,hair,color,permanent,hair,col...    2737  \n",
      "3  beauty,makeup,lipkokie,cosmeticscalling,matte,...    4959  \n",
      "4  seasonal,stock,essentials,personal,care,stock,...     184  \n",
      "<class 'pandas.core.frame.DataFrame'>\n",
      "RangeIndex: 5000 entries, 0 to 4999\n",
      "Data columns (total 13 columns):\n",
      " #   Column       Non-Null Count  Dtype  \n",
      "---  ------       --------------  -----  \n",
      " 0   ID           5000 non-null   object \n",
      " 1   Timestamp    5000 non-null   object \n",
      " 2   ProdID       5000 non-null   object \n",
      " 3   Name         5000 non-null   object \n",
      " 4   Rating       5000 non-null   float64\n",
      " 5   ReviewCount  5000 non-null   float64\n",
      " 6   Category     5000 non-null   object \n",
      " 7   Brand        5000 non-null   object \n",
      " 8   ImageURL     5000 non-null   object \n",
      " 9   Description  5000 non-null   object \n",
      " 10  Price        5000 non-null   float64\n",
      " 11  Tags         5000 non-null   object \n",
      " 12  UserID       5000 non-null   int16  \n",
      "dtypes: float64(3), int16(1), object(9)\n",
      "memory usage: 478.6+ KB\n",
      "None\n"
     ]
    }
   ],
   "source": [
    "print(updated_products.head())\n",
    "print(updated_products.info())\n"
   ]
  },
  {
   "cell_type": "code",
   "execution_count": null,
   "id": "251f3a42-d4c5-4b12-bc79-b2a6bb653e7a",
   "metadata": {},
   "outputs": [],
   "source": []
  }
 ],
 "metadata": {
  "kernelspec": {
   "display_name": "Python 3 (ipykernel)",
   "language": "python",
   "name": "python3"
  },
  "language_info": {
   "codemirror_mode": {
    "name": "ipython",
    "version": 3
   },
   "file_extension": ".py",
   "mimetype": "text/x-python",
   "name": "python",
   "nbconvert_exporter": "python",
   "pygments_lexer": "ipython3",
   "version": "3.12.4"
  }
 },
 "nbformat": 4,
 "nbformat_minor": 5
}
